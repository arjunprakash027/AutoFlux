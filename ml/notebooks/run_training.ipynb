{
 "cells": [
  {
   "cell_type": "markdown",
   "metadata": {},
   "source": [
    "This notebook has the training workflow "
   ]
  },
  {
   "cell_type": "markdown",
   "metadata": {},
   "source": [
    "## Import everything here"
   ]
  },
  {
   "cell_type": "code",
   "execution_count": null,
   "metadata": {},
   "outputs": [],
   "source": [
    "# Internal imports\n",
    "from src.utils.config_reader import read_config, Configrations, read_predictor_config\n",
    "from src.generic.run_trainer import TrainerPipeline\n",
    "from src.generic.predictor import Predictor\n",
    "\n",
    "# Library imports\n",
    "# sklearn imports\n",
    "import lightgbm\n",
    "import sklearn.linear_model\n",
    "import sklearn\n",
    "#pandas imports\n",
    "from pandas import DataFrame\n",
    "import ibis\n",
    "import duckdb\n",
    "\n"
   ]
  },
  {
   "cell_type": "markdown",
   "metadata": {},
   "source": [
    "## Define the config here"
   ]
  },
  {
   "cell_type": "code",
   "execution_count": null,
   "metadata": {},
   "outputs": [],
   "source": [
    "config = {\n",
    "  'project_name': 'statistella',\n",
    "  'training': {\n",
    "    'input_data_source': 'main_staging.stg_full', #location for the input data in spark\n",
    "    'target': 'TARGET' #The target column\n",
    "  },\n",
    "  'models': {\n",
    "    'LGBMClassifier': {\n",
    "      'experiment_name': 'an experiment',\n",
    "      'model_params': {\n",
    "        'boosting_type': 'gbdt',\n",
    "        'num_leaves': 31,\n",
    "        'max_depth': -1,\n",
    "        'learning_rate': 0.1,\n",
    "        'n_estimators': 100,\n",
    "        'subsample_for_bin': 200000,\n",
    "        'objective': 'binary',\n",
    "        'class_weight': 'balanced',\n",
    "        'min_split_gain': 0.0,\n",
    "        'min_child_weight': 0.001,\n",
    "        'min_child_samples': 20,\n",
    "        'subsample': 1.0,\n",
    "        'subsample_freq': 0,\n",
    "        'colsample_bytree': 1.0,\n",
    "        'reg_alpha': 0.0,\n",
    "        'reg_lambda': 0.0,\n",
    "        'random_state': 42,\n",
    "        'n_jobs': -1,\n",
    "        'importance_type': 'split'\n",
    "      }\n",
    "    },\n",
    "    'LogisticRegression': {\n",
    "      'model_params': {\n",
    "        'penalty': 'l2',\n",
    "        'tol': 0.0001,\n",
    "        'C': 1.0,\n",
    "        'fit_intercept': True,\n",
    "        'intercept_scaling': 1,\n",
    "        'class_weight': 'balanced',\n",
    "        'random_state': 42,\n",
    "        'solver': 'lbfgs',\n",
    "        'max_iter': 100,\n",
    "        'n_jobs': -1\n",
    "      }\n",
    "    }\n",
    "  },\n",
    "  'hyper_parameter_tuning': { #optional, if present, parameter tuning will be performed\n",
    "    'perform': False,\n",
    "    'scoring': 'f1',\n",
    "    'cv': 5,\n",
    "    'factor': 2\n",
    "  }\n",
    "}\n",
    "\n",
    "pred_config = {\n",
    "  \"registered_model\": \"lgbm\",\n",
    "  \"version\": 2\n",
    "}\n",
    "\n",
    "\n",
    "final_config = read_config(config=config)\n",
    "final_pred_config = read_predictor_config(config=pred_config)"
   ]
  },
  {
   "cell_type": "markdown",
   "metadata": {},
   "source": [
    "## Training workflow "
   ]
  },
  {
   "cell_type": "markdown",
   "metadata": {},
   "source": [
    "#### Read input"
   ]
  },
  {
   "cell_type": "code",
   "execution_count": null,
   "metadata": {},
   "outputs": [],
   "source": [
    "def read_training_input() -> None:\n",
    "        \n",
    "    \"\"\"\n",
    "    Input table retreival flow -> write any custom input table code here\n",
    "    \"\"\"\n",
    "    input_table = final_config.training.input_data_source\n",
    "\n",
    "    con = duckdb.connect(\"/app/database/ml_db.duckdb\")\n",
    "    \n",
    "    df = con.sql(f\"SELECT * FROM {input_table} WHERE use_for_training=1\").df()\n",
    "\n",
    "    df_num = df.select_dtypes(include=['number'])\n",
    "    df_num = df_num.fillna(0)\n",
    "\n",
    "    return df_num\n",
    "\n",
    "def read_testing_input() -> None:\n",
    "        \n",
    "    \"\"\"\n",
    "    Input table retreival flow -> write any custom input table code here\n",
    "    \"\"\"\n",
    "    input_table = final_config.training.input_data_source\n",
    "\n",
    "    con = duckdb.connect(\"/app/database/ml_db.duckdb\")\n",
    "    \n",
    "    df = con.sql(f\"SELECT * FROM {input_table} WHERE use_for_training=0\").df()\n",
    "\n",
    "    df_num = df.select_dtypes(include=['number'])\n",
    "    df_num = df_num.fillna(0)\n",
    "\n",
    "    return df_num"
   ]
  },
  {
   "cell_type": "markdown",
   "metadata": {},
   "source": [
    "## Training model / models"
   ]
  },
  {
   "cell_type": "code",
   "execution_count": null,
   "metadata": {},
   "outputs": [],
   "source": [
    "input_df = read_training_input()\n",
    "\n",
    "trainer = TrainerPipeline(\n",
    "    config = final_config,\n",
    "    df = input_df\n",
    ")\n",
    "\n",
    "# Train the model using this code \n",
    "trainer.pipeline_run()"
   ]
  },
  {
   "cell_type": "markdown",
   "metadata": {},
   "source": [
    "## Prediction workflow"
   ]
  },
  {
   "cell_type": "code",
   "execution_count": null,
   "metadata": {},
   "outputs": [],
   "source": [
    "pred_model = Predictor(\n",
    "    config=final_pred_config\n",
    ")\n",
    "\n",
    "test_df = read_testing_input()\n",
    "\n",
    "out = pred_model.predict(\n",
    "    df = test_df\n",
    ")"
   ]
  },
  {
   "cell_type": "code",
   "execution_count": null,
   "metadata": {},
   "outputs": [],
   "source": []
  }
 ],
 "metadata": {
  "kernelspec": {
   "display_name": "Python 3",
   "language": "python",
   "name": "python3"
  },
  "language_info": {
   "codemirror_mode": {
    "name": "ipython",
    "version": 3
   },
   "file_extension": ".py",
   "mimetype": "text/x-python",
   "name": "python",
   "nbconvert_exporter": "python",
   "pygments_lexer": "ipython3",
   "version": "3.11.11"
  }
 },
 "nbformat": 4,
 "nbformat_minor": 2
}
